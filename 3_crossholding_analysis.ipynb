{
 "cells": [
  {
   "cell_type": "markdown",
   "metadata": {},
   "source": [
    "# Introduction"
   ]
  },
  {
   "cell_type": "markdown",
   "metadata": {},
   "source": [
    "The goal is to study the structure of the network of cross-holding firms in the Ecuadorian market. We model the cross-holding relationships to create a dependency matrix of flow of assets. Finally, we analyze financial contagion in different scenarios of failures' cascades."
   ]
  },
  {
   "cell_type": "code",
   "execution_count": 1,
   "metadata": {},
   "outputs": [],
   "source": [
    "NAME = '2_crossholding_analysis'\n",
    "PROJECT = 'Financial_Contagion_Crossholding'"
   ]
  },
  {
   "cell_type": "markdown",
   "metadata": {},
   "source": [
    "## Preamble"
   ]
  },
  {
   "cell_type": "code",
   "execution_count": 2,
   "metadata": {
    "code_folding": [
     0
    ]
   },
   "outputs": [
    {
     "name": "stdout",
     "output_type": "stream",
     "text": [
      "-------------------------\n"
     ]
    }
   ],
   "source": [
    "# Load libraries\n",
    "import os\n",
    "import copy\n",
    "import pandas as pd\n",
    "import numpy as np\n",
    "import matplotlib.patches as mpatches\n",
    "import matplotlib.pyplot as plt\n",
    "import networkx as nx\n",
    "import seaborn as sns\n",
    "\n",
    "# Ignoring warnings\n",
    "import warnings\n",
    "warnings.filterwarnings('ignore')\n",
    "print('-'*25)"
   ]
  },
  {
   "cell_type": "code",
   "execution_count": 3,
   "metadata": {
    "code_folding": [
     0
    ]
   },
   "outputs": [
    {
     "data": {
      "image/png": "[encoded data removed]",
      "text/plain": [
       "<Figure size 576x72 with 1 Axes>"
      ]
     },
     "metadata": {
      "image/png": {
       "height": 68,
       "width": 460
      }
     },
     "output_type": "display_data"
    }
   ],
   "source": [
    "# Settings\n",
    "\n",
    "# Configuring visualizations\n",
    "%config InlineBackend.figure_format = 'retina'\n",
    "sns.set_style(\"whitegrid\")\n",
    "plt.rc('text', usetex=True)\n",
    "\n",
    "# Set palette\n",
    "color_list = [(0.2980392156862745, 0.4470588235294118, 0.6901960784313725),\n",
    " (0.3333333333333333, 0.6588235294117647, 0.40784313725490196),\n",
    " (0.7686274509803922, 0.3058823529411765, 0.3215686274509804),\n",
    " (0.5058823529411764, 0.4470588235294118, 0.6980392156862745),\n",
    " (0.8, 0.7254901960784313, 0.4549019607843137),\n",
    " (0.39215686274509803, 0.7098039215686275, 0.803921568627451),\n",
    " (0.7450980392156863, 0.6823529411764706, 0.8313725490196079),\n",
    " (0.9648442906574395, 0.47100346020761247, 0.14197616301422528)]\n",
    "sns.palplot(color_list)\n",
    "sns.set_palette(color_list)\n",
    "\n",
    "# Reloads imported modules\n",
    "%load_ext autoreload\n",
    "%autoreload"
   ]
  },
  {
   "cell_type": "markdown",
   "metadata": {},
   "source": [
    "--- \n",
    "# Main code"
   ]
  },
  {
   "cell_type": "markdown",
   "metadata": {},
   "source": [
    "G: graph object of networkx. The nodes are the firms and the edges are the capital share of each firm."
   ]
  },
  {
   "cell_type": "code",
   "execution_count": 3,
   "metadata": {
    "code_folding": [
     0
    ]
   },
   "outputs": [],
   "source": [
    "# Read Graph Data\n",
    "year = 2016\n",
    "\n",
    "G = nx.read_gpickle(os.path.join('2_pipeline', \n",
    "                                 '1_prepare_data', \n",
    "                                 'graph_crossholding_{}.gpickle'.format(year)))"
   ]
  },
  {
   "cell_type": "markdown",
   "metadata": {},
   "source": [
    "## Cross-holding matrix"
   ]
  },
  {
   "cell_type": "markdown",
   "metadata": {},
   "source": [
    "There are $n$ organizations (e.g., countries, banks, or firms) making up a set $N = \\{1,…, n\\}$.\n",
    "\n",
    "An firm can hold shares of other firms. For any $i, j ∈ N$ the number $C_{ij} ≥ 0$ is the fraction of organization $j$ owned by organization $i$, where $C_{ii} = 0$ for each $i$. \n",
    "\n",
    "The matrix $C$ can be thought of as a network in which there is a directed link from $i$ to $j$ if $i$ owns a positive share of $j$, so that $C_{ij} > 0$.\n",
    "\n",
    "Paths in this network are called ownership paths. We also sometimes work with a graphical representation of $C$ where directed links point in the opposite direction, the direction in which value (and loss of value) ﬂows. We call the paths in that network cascade paths."
   ]
  },
  {
   "cell_type": "code",
   "execution_count": 6,
   "metadata": {
    "code_folding": [
     0
    ]
   },
   "outputs": [],
   "source": [
    "# Creating C matrix\n",
    "C = nx.adjacency_matrix(G).todense()\n",
    "C = np.array(C)"
   ]
  },
  {
   "cell_type": "code",
   "execution_count": 7,
   "metadata": {
    "code_folding": [
     0
    ]
   },
   "outputs": [
    {
     "data": {
      "text/plain": [
       "count    1299.000000\n",
       "mean        0.100860\n",
       "std         0.268434\n",
       "min         0.000000\n",
       "25%         0.000000\n",
       "50%         0.000000\n",
       "75%         0.000000\n",
       "max         1.000000\n",
       "dtype: float64"
      ]
     },
     "execution_count": 7,
     "metadata": {},
     "output_type": "execute_result"
    }
   ],
   "source": [
    "# We cannot have total holding companies, so we check if the sum of a column is less than one\n",
    "sum_shares = sum(C)\n",
    "pd.Series(sum_shares).describe()"
   ]
  },
  {
   "cell_type": "code",
   "execution_count": 8,
   "metadata": {
    "code_folding": [
     0
    ]
   },
   "outputs": [
    {
     "name": "stdout",
     "output_type": "stream",
     "text": [
      "Graph information\n",
      "Name: Cross-holding Network\n",
      "Type: DiGraph\n",
      "Number of nodes: 1267\n",
      "Number of edges: 540\n",
      "Average in degree:   0.4262\n",
      "Average out degree:   0.4262\n"
     ]
    }
   ],
   "source": [
    "# Removing columns that sum less than one\n",
    "names = np.array(G.nodes)\n",
    "\n",
    "valid_firms = names[ np.where(sum_shares <= 0.999999)[0] ]\n",
    "G.remove_nodes_from([n for n in G if n not in valid_firms])\n",
    "\n",
    "print('Graph information\\n', nx.info(G), sep='')"
   ]
  },
  {
   "cell_type": "code",
   "execution_count": 11,
   "metadata": {
    "code_folding": [
     0
    ]
   },
   "outputs": [
    {
     "data": {
      "text/plain": [
       "array([[0.  , 0.  , 0.  , ..., 0.  , 0.  , 0.  ],\n",
       "       [0.  , 0.  , 0.  , ..., 0.  , 0.  , 0.  ],\n",
       "       [0.  , 0.05, 0.  , ..., 0.  , 0.  , 0.  ],\n",
       "       ...,\n",
       "       [0.  , 0.  , 0.  , ..., 0.  , 0.  , 0.  ],\n",
       "       [0.  , 0.  , 0.  , ..., 0.  , 0.  , 0.  ],\n",
       "       [0.  , 0.  , 0.  , ..., 0.  , 0.  , 0.  ]])"
      ]
     },
     "execution_count": 11,
     "metadata": {},
     "output_type": "execute_result"
    }
   ],
   "source": [
    "# Creating C matrix\n",
    "C = nx.adjacency_matrix(G).todense()\n",
    "C = np.array(C)\n",
    "\n",
    "n = len( G ) # Number of firms\n",
    "names = np.array(G.nodes)\n",
    "\n",
    "np.around(C, decimals=2)"
   ]
  },
  {
   "cell_type": "markdown",
   "metadata": {},
   "source": [
    "After all these cross-holding shares are accounted for, there remains a share $\\hat{C}_{ii} := 1 − \\sum_{j∈N}C_{ji}$ of organization $i$ not owned by any organization in the system — a share assumed to be positive.\n",
    "\n",
    "This is the part that is owned by outside shareholders of $i$, external to the system of cross-holdings. The off-diagonal entries of the matrix $\\hat{C}$ are defned to be $0$.\n",
    "\n",
    "The $\\hat{C}_{ii}$ residual shares correspond to the control rights of the firm, while the $C_{ij}$’s simply represent obligations to other creditors."
   ]
  },
  {
   "cell_type": "code",
   "execution_count": 12,
   "metadata": {
    "code_folding": [
     0
    ]
   },
   "outputs": [
    {
     "data": {
      "text/plain": [
       "array([[1.  , 0.  , 0.  , ..., 0.  , 0.  , 0.  ],\n",
       "       [0.  , 0.95, 0.  , ..., 0.  , 0.  , 0.  ],\n",
       "       [0.  , 0.  , 1.  , ..., 0.  , 0.  , 0.  ],\n",
       "       ...,\n",
       "       [0.  , 0.  , 0.  , ..., 0.  , 0.  , 0.  ],\n",
       "       [0.  , 0.  , 0.  , ..., 0.  , 0.45, 0.  ],\n",
       "       [0.  , 0.  , 0.  , ..., 0.  , 0.  , 0.  ]])"
      ]
     },
     "execution_count": 12,
     "metadata": {},
     "output_type": "execute_result"
    }
   ],
   "source": [
    "# Creating C_hat matrix\n",
    "Chat = np.diag(1 - sum(C))\n",
    "np.around(Chat, decimals=2)"
   ]
  },
  {
   "cell_type": "code",
   "execution_count": 12,
   "metadata": {
    "code_folding": [
     0
    ]
   },
   "outputs": [],
   "source": [
    "#  Write Final Cross-holding Graph\n",
    "nx.write_gpickle(G, \n",
    "                 os.path.join(pipeline, 'graph_crossholding_{}.gpickle'.format(year)))\n",
    "\n",
    "\n",
    "\"\"\" Write to GEXF \"\"\" \n",
    "# Use 1.2draft so you do not get a deprecated warning in Gephi\n",
    "nx.write_gexf(G, \n",
    "              os.path.join(pipeline, 'gephi_graph_crossholding_{}.gexf'.format(year)), \n",
    "              version=\"1.2draft\")"
   ]
  },
  {
   "cell_type": "markdown",
   "metadata": {},
   "source": [
    "## Network Characteristics"
   ]
  },
  {
   "cell_type": "markdown",
   "metadata": {},
   "source": [
    "We will study integration, diversification and the presence of homophily patterns."
   ]
  },
  {
   "cell_type": "markdown",
   "metadata": {},
   "source": [
    "### Diversification"
   ]
  },
  {
   "cell_type": "code",
   "execution_count": 13,
   "metadata": {
    "code_folding": [
     0
    ]
   },
   "outputs": [
    {
     "data": {
      "text/plain": [
       "count    504.000000\n",
       "mean       1.071429\n",
       "std        1.262259\n",
       "min        0.000000\n",
       "25%        0.000000\n",
       "50%        1.000000\n",
       "75%        1.000000\n",
       "max       10.000000\n",
       "dtype: float64"
      ]
     },
     "execution_count": 13,
     "metadata": {},
     "output_type": "execute_result"
    }
   ],
   "source": [
    "# Descriptive Statistics of Diversification\n",
    "out_deg = pd.Series(list( dict( G.out_degree(weight=None) ).values() ))\n",
    "\n",
    "out_deg.describe()"
   ]
  },
  {
   "cell_type": "code",
   "execution_count": 14,
   "metadata": {
    "code_folding": [
     0
    ]
   },
   "outputs": [
    {
     "data": {
      "text/plain": [
       "1     0.507937\n",
       "0     0.305556\n",
       "2     0.107143\n",
       "3     0.039683\n",
       "4     0.011905\n",
       "7     0.007937\n",
       "5     0.007937\n",
       "6     0.005952\n",
       "8     0.003968\n",
       "10    0.001984\n",
       "dtype: float64"
      ]
     },
     "execution_count": 14,
     "metadata": {},
     "output_type": "execute_result"
    }
   ],
   "source": [
    "# Percent of nodes with k out-degree\n",
    "out_deg.value_counts(normalize=True)"
   ]
  },
  {
   "cell_type": "code",
   "execution_count": 15,
   "metadata": {
    "code_folding": [
     0
    ]
   },
   "outputs": [
    {
     "name": "stdout",
     "output_type": "stream",
     "text": [
      "- Expected degree (diversification): 1.071\n",
      "- When p is very low (well below 0.0020) most nodes are completely isolated and only a few nodes are linked as pairs.\n",
      "- As p increases (above 0.0020) some nodes have more than one link and a large component emerges.\n",
      "- As p increases further (beyond 6.2226) the isolated nodes disappear and network begins to coalesce into a single connected component.\n"
     ]
    }
   ],
   "source": [
    "# Some useful considerations for diversification\n",
    "\n",
    "print(\"- Expected degree (diversification): {:.3f}\".format(out_deg.mean()) )\n",
    "\n",
    "print(\"- When p is very low (well below {:.4f}) most nodes are completely isolated and only a few nodes are linked as pairs.\".format(1 / len(G)) )\n",
    "\n",
    "print(\"- As p increases (above {:.4f}) some nodes have more than one link and a large component emerges.\".format(1 / len(G)) )\n",
    "\n",
    "print(\"- As p increases further (beyond {:.4f}) the isolated nodes disappear and network begins to coalesce into a single connected component.\".format(np.log( len(G) )) )"
   ]
  },
  {
   "cell_type": "markdown",
   "metadata": {},
   "source": [
    "### Integration"
   ]
  },
  {
   "cell_type": "code",
   "execution_count": 15,
   "metadata": {
    "code_folding": [
     0
    ]
   },
   "outputs": [
    {
     "data": {
      "text/plain": [
       "count    504.000000\n",
       "mean       0.192745\n",
       "std        0.328275\n",
       "min        0.000000\n",
       "25%        0.000000\n",
       "50%        0.000033\n",
       "75%        0.252088\n",
       "max        0.999999\n",
       "dtype: float64"
      ]
     },
     "execution_count": 15,
     "metadata": {},
     "output_type": "execute_result"
    }
   ],
   "source": [
    "# Descriptive Statistics of Integration\n",
    "sum_shares = C.sum(axis=0) # sum by column\n",
    "pd.Series(sum_shares).describe()"
   ]
  },
  {
   "cell_type": "code",
   "execution_count": 16,
   "metadata": {
    "code_folding": [
     0
    ]
   },
   "outputs": [
    {
     "name": "stdout",
     "output_type": "stream",
     "text": [
      "The correlation between diversification and integration is -0.5324\n"
     ]
    }
   ],
   "source": [
    "# Correlation diversification - integration\n",
    "\n",
    "corr_diver_integ = out_deg.corr(pd.Series(sum_shares), method='spearman')\n",
    "\n",
    "print(\"The correlation between diversification and integration is {:.4f}\".format(corr_diver_integ))"
   ]
  },
  {
   "cell_type": "code",
   "execution_count": 18,
   "metadata": {
    "code_folding": [
     0
    ],
    "scrolled": true
   },
   "outputs": [
    {
     "data": {
      "text/plain": [
       "count    504.000000\n",
       "mean       0.807255\n",
       "std        0.328275\n",
       "min        0.000001\n",
       "25%        0.747912\n",
       "50%        0.999967\n",
       "75%        1.000000\n",
       "max        1.000000\n",
       "dtype: float64"
      ]
     },
     "execution_count": 18,
     "metadata": {},
     "output_type": "execute_result"
    }
   ],
   "source": [
    "# The opposite of integration\n",
    "ch = 1 - sum(C)\n",
    "pd.Series(ch).describe()"
   ]
  },
  {
   "cell_type": "markdown",
   "metadata": {},
   "source": [
    "### Homophily Patterns"
   ]
  },
  {
   "cell_type": "markdown",
   "metadata": {},
   "source": [
    "**Assortative Mixing Coefficient**\n",
    "<br>\n",
    "<br>\n",
    "This formula gives $ r = 0 $ when there is no assortative mixing, since $ e_{ij} = a_ib_j $ in that case, and $ r = 1 $ when there is perfect assortative mixing and $ \\sum e_{ii} = 1 $. If the network is perfectly disassortative, i.e., every edge connects two vertices of different types, then $ r $ is negative."
   ]
  },
  {
   "cell_type": "code",
   "execution_count": 19,
   "metadata": {
    "code_folding": [
     0
    ]
   },
   "outputs": [
    {
     "name": "stdout",
     "output_type": "stream",
     "text": [
      "Assortativity coefficient of Economic Sectors: 0.1635\n"
     ]
    }
   ],
   "source": [
    "# Assortativity Coefficient\n",
    "r = nx.attribute_assortativity_coefficient(G, attribute=\"Economic_Sector\")\n",
    "print(\"Assortativity coefficient of Economic Sectors: {:.4f}\".format(r))"
   ]
  },
  {
   "cell_type": "markdown",
   "metadata": {},
   "source": [
    "We found that $ r = 0.1635 $ for the cross-holding network, implying that this network is moderately assortative by economic sector — firms invest their money in their own economic group a little more often than one would expect on the basis of pure chance."
   ]
  },
  {
   "cell_type": "code",
   "execution_count": 20,
   "metadata": {
    "code_folding": [
     0
    ],
    "scrolled": true
   },
   "outputs": [
    {
     "data": {
      "text/html": [
       "<div>\n",
       "<style scoped>\n",
       "    .dataframe tbody tr th:only-of-type {\n",
       "        vertical-align: middle;\n",
       "    }\n",
       "\n",
       "    .dataframe tbody tr th {\n",
       "        vertical-align: top;\n",
       "    }\n",
       "\n",
       "    .dataframe thead th {\n",
       "        text-align: right;\n",
       "    }\n",
       "</style>\n",
       "<table border=\"1\" class=\"dataframe\">\n",
       "  <thead>\n",
       "    <tr style=\"text-align: right;\">\n",
       "      <th></th>\n",
       "      <th>General Services</th>\n",
       "      <th>Trade</th>\n",
       "      <th>Real Estate</th>\n",
       "      <th>Financial Activities</th>\n",
       "      <th>Manufacturing</th>\n",
       "      <th>Agriculture</th>\n",
       "      <th>Construction</th>\n",
       "      <th>Transportation</th>\n",
       "    </tr>\n",
       "  </thead>\n",
       "  <tbody>\n",
       "    <tr>\n",
       "      <th>Trade</th>\n",
       "      <td>29.0</td>\n",
       "      <td>34.0</td>\n",
       "      <td>5.0</td>\n",
       "      <td>9.0</td>\n",
       "      <td>16.0</td>\n",
       "      <td>1.0</td>\n",
       "      <td>3.0</td>\n",
       "      <td>10.0</td>\n",
       "    </tr>\n",
       "    <tr>\n",
       "      <th>General Services</th>\n",
       "      <td>73.0</td>\n",
       "      <td>17.0</td>\n",
       "      <td>9.0</td>\n",
       "      <td>13.0</td>\n",
       "      <td>15.0</td>\n",
       "      <td>0.0</td>\n",
       "      <td>4.0</td>\n",
       "      <td>2.0</td>\n",
       "    </tr>\n",
       "    <tr>\n",
       "      <th>Real Estate</th>\n",
       "      <td>15.0</td>\n",
       "      <td>14.0</td>\n",
       "      <td>6.0</td>\n",
       "      <td>5.0</td>\n",
       "      <td>15.0</td>\n",
       "      <td>1.0</td>\n",
       "      <td>3.0</td>\n",
       "      <td>0.0</td>\n",
       "    </tr>\n",
       "    <tr>\n",
       "      <th>Financial Activities</th>\n",
       "      <td>31.0</td>\n",
       "      <td>30.0</td>\n",
       "      <td>6.0</td>\n",
       "      <td>37.0</td>\n",
       "      <td>29.0</td>\n",
       "      <td>3.0</td>\n",
       "      <td>2.0</td>\n",
       "      <td>1.0</td>\n",
       "    </tr>\n",
       "    <tr>\n",
       "      <th>Manufacturing</th>\n",
       "      <td>17.0</td>\n",
       "      <td>11.0</td>\n",
       "      <td>1.0</td>\n",
       "      <td>2.0</td>\n",
       "      <td>1.0</td>\n",
       "      <td>3.0</td>\n",
       "      <td>1.0</td>\n",
       "      <td>3.0</td>\n",
       "    </tr>\n",
       "    <tr>\n",
       "      <th>Construction</th>\n",
       "      <td>9.0</td>\n",
       "      <td>3.0</td>\n",
       "      <td>2.0</td>\n",
       "      <td>1.0</td>\n",
       "      <td>1.0</td>\n",
       "      <td>0.0</td>\n",
       "      <td>4.0</td>\n",
       "      <td>2.0</td>\n",
       "    </tr>\n",
       "    <tr>\n",
       "      <th>Agriculture</th>\n",
       "      <td>1.0</td>\n",
       "      <td>5.0</td>\n",
       "      <td>1.0</td>\n",
       "      <td>3.0</td>\n",
       "      <td>8.0</td>\n",
       "      <td>5.0</td>\n",
       "      <td>2.0</td>\n",
       "      <td>1.0</td>\n",
       "    </tr>\n",
       "    <tr>\n",
       "      <th>Transportation</th>\n",
       "      <td>2.0</td>\n",
       "      <td>3.0</td>\n",
       "      <td>0.0</td>\n",
       "      <td>0.0</td>\n",
       "      <td>1.0</td>\n",
       "      <td>0.0</td>\n",
       "      <td>0.0</td>\n",
       "      <td>9.0</td>\n",
       "    </tr>\n",
       "  </tbody>\n",
       "</table>\n",
       "</div>"
      ],
      "text/plain": [
       "                      General Services  Trade  Real Estate  \\\n",
       "Trade                             29.0   34.0          5.0   \n",
       "General Services                  73.0   17.0          9.0   \n",
       "Real Estate                       15.0   14.0          6.0   \n",
       "Financial Activities              31.0   30.0          6.0   \n",
       "Manufacturing                     17.0   11.0          1.0   \n",
       "Construction                       9.0    3.0          2.0   \n",
       "Agriculture                        1.0    5.0          1.0   \n",
       "Transportation                     2.0    3.0          0.0   \n",
       "\n",
       "                      Financial Activities  Manufacturing  Agriculture  \\\n",
       "Trade                                  9.0           16.0          1.0   \n",
       "General Services                      13.0           15.0          0.0   \n",
       "Real Estate                            5.0           15.0          1.0   \n",
       "Financial Activities                  37.0           29.0          3.0   \n",
       "Manufacturing                          2.0            1.0          3.0   \n",
       "Construction                           1.0            1.0          0.0   \n",
       "Agriculture                            3.0            8.0          5.0   \n",
       "Transportation                         0.0            1.0          0.0   \n",
       "\n",
       "                      Construction  Transportation  \n",
       "Trade                          3.0            10.0  \n",
       "General Services               4.0             2.0  \n",
       "Real Estate                    3.0             0.0  \n",
       "Financial Activities           2.0             1.0  \n",
       "Manufacturing                  1.0             3.0  \n",
       "Construction                   4.0             2.0  \n",
       "Agriculture                    2.0             1.0  \n",
       "Transportation                 0.0             9.0  "
      ]
     },
     "execution_count": 20,
     "metadata": {},
     "output_type": "execute_result"
    }
   ],
   "source": [
    "# Industry matrix\n",
    "df_crossholding_industry = pd.DataFrame(nx.attribute_mixing_dict(G, \"Economic_Sector\")).T.fillna(0)\n",
    "df_crossholding_industry"
   ]
  },
  {
   "cell_type": "markdown",
   "metadata": {},
   "source": [
    "Let $e_{ij}$ be the fraction of edges connecting vertices of type $ i $ to vertices of type $ j $ (joint probability)."
   ]
  },
  {
   "cell_type": "code",
   "execution_count": 21,
   "metadata": {
    "code_folding": [
     0
    ]
   },
   "outputs": [
    {
     "data": {
      "text/plain": [
       "0.16354223205711657"
      ]
     },
     "execution_count": 21,
     "metadata": {},
     "output_type": "execute_result"
    }
   ],
   "source": [
    "# Economic Sector Assortativity coefficient (manual calculation)\n",
    "\n",
    "M = pd.DataFrame(nx.attribute_mixing_matrix(G, \"Economic_Sector\", normalized=True))\n",
    "a = M.sum( axis=1 ) # index\n",
    "b = M.sum( axis=0 ) # column\n",
    "( np.trace(M) - np.dot(a,b) ) / (1 - np.dot(a,b))"
   ]
  },
  {
   "cell_type": "markdown",
   "metadata": {},
   "source": [
    "One way to calculate the expected statistical error on the value of $ r $ is to use the jackknife method. Regarding each of the\n",
    "$ M $ edges in a network as an independent measurement of the contributions to the elements of the matrix $ e $, where $ r_i $ is the value of $ r $ for the network in which the ith edge is removed."
   ]
  },
  {
   "cell_type": "code",
   "execution_count": 24,
   "metadata": {
    "code_folding": [
     0
    ]
   },
   "outputs": [
    {
     "name": "stdout",
     "output_type": "stream",
     "text": [
      "Sigma: 0.0230\n",
      "Our finding of assortative mixing is strongly statistically significant — a 7σ result\n"
     ]
    }
   ],
   "source": [
    "# Standard Deviation Calculation\n",
    "\n",
    "all_edges = list(G.edges)\n",
    "r_list = []\n",
    "\n",
    "for e in all_edges:\n",
    "    Gcopy = G.copy()\n",
    "    Gcopy.remove_edge( *e )\n",
    "    r_i = nx.attribute_assortativity_coefficient(Gcopy, attribute=\"Economic_Sector\")\n",
    "    dev = (r_i - r) ** 2\n",
    "    r_list.append(dev)\n",
    "    \n",
    "sigma = sum(r_list) ** (1/2)\n",
    "print( \"Sigma: {:.4f}\".format(sigma) )\n",
    "print(\"Our finding of assortative mixing is strongly statistically significant — a {}σ result\".format(int(r / sigma)))"
   ]
  },
  {
   "cell_type": "markdown",
   "metadata": {},
   "source": [
    "### Industry Statistics"
   ]
  },
  {
   "cell_type": "code",
   "execution_count": 22,
   "metadata": {
    "code_folding": [
     0
    ]
   },
   "outputs": [
    {
     "data": {
      "text/html": [
       "<div>\n",
       "<style scoped>\n",
       "    .dataframe tbody tr th:only-of-type {\n",
       "        vertical-align: middle;\n",
       "    }\n",
       "\n",
       "    .dataframe tbody tr th {\n",
       "        vertical-align: top;\n",
       "    }\n",
       "\n",
       "    .dataframe thead th {\n",
       "        text-align: right;\n",
       "    }\n",
       "</style>\n",
       "<table border=\"1\" class=\"dataframe\">\n",
       "  <thead>\n",
       "    <tr style=\"text-align: right;\">\n",
       "      <th></th>\n",
       "      <th>level_0_sector</th>\n",
       "      <th>level_1_sector</th>\n",
       "      <th>count_share</th>\n",
       "      <th>dollar_share</th>\n",
       "      <th>Total_Equity</th>\n",
       "      <th>pct_share</th>\n",
       "    </tr>\n",
       "  </thead>\n",
       "  <tbody>\n",
       "    <tr>\n",
       "      <th>13</th>\n",
       "      <td>Construction</td>\n",
       "      <td>Trade</td>\n",
       "      <td>3</td>\n",
       "      <td>18624.000</td>\n",
       "      <td>1.044514e+09</td>\n",
       "      <td>0.000018</td>\n",
       "    </tr>\n",
       "    <tr>\n",
       "      <th>42</th>\n",
       "      <td>Real Estate</td>\n",
       "      <td>Manufacturing</td>\n",
       "      <td>15</td>\n",
       "      <td>1959180.502</td>\n",
       "      <td>9.186925e+08</td>\n",
       "      <td>0.002133</td>\n",
       "    </tr>\n",
       "  </tbody>\n",
       "</table>\n",
       "</div>"
      ],
      "text/plain": [
       "   level_0_sector level_1_sector  count_share  dollar_share  Total_Equity  \\\n",
       "13   Construction          Trade            3     18624.000  1.044514e+09   \n",
       "42    Real Estate  Manufacturing           15   1959180.502  9.186925e+08   \n",
       "\n",
       "    pct_share  \n",
       "13   0.000018  \n",
       "42   0.002133  "
      ]
     },
     "execution_count": 22,
     "metadata": {},
     "output_type": "execute_result"
    }
   ],
   "source": [
    "# Construct edge list at industry level\n",
    "\n",
    "# Define dataframe of nodes and edges\n",
    "df_nodes = pd.DataFrame.from_dict(G.nodes, orient='index').reset_index()\n",
    "df_edges = pd.DataFrame.from_dict(G.edges, orient='index').reset_index()\n",
    "\n",
    "# Merge nodes information to edges (target) dataset\n",
    "df_edges_industry = pd.merge( df_edges, df_nodes[[\"index\", \"Total_Equity\", \"Economic_Sector\"]], how='left', left_on='level_1' , right_on='index').drop(\"index\", axis=1)\n",
    "df_edges_industry = df_edges_industry.rename(columns={\"Economic_Sector\": \"level_1_sector\"})\n",
    "\n",
    "# Calculate shares in dollars and total links\n",
    "df_edges_industry[\"dollar_share\"] = df_edges_industry[\"weight\"] * df_edges_industry[\"Total_Equity\"]\n",
    "df_edges_industry[\"count_share\"] = 1\n",
    "\n",
    "# Merge nodes information to edges (source) dataset\n",
    "df_edges_industry = pd.merge( df_edges_industry, df_nodes[[\"index\", \"Economic_Sector\"]], how='left', left_on='level_0' , right_on='index').drop(\"index\", axis=1)\n",
    "df_edges_industry = df_edges_industry.rename(columns={\"Economic_Sector\": \"level_0_sector\"})\n",
    "\n",
    "# Select columns and group by industry\n",
    "df_edges_industry = df_edges_industry[[\"level_0_sector\", \"level_1_sector\", \"count_share\", \"dollar_share\"]]\n",
    "df_edges_industry = df_edges_industry.groupby([\"level_0_sector\", \"level_1_sector\"]).sum().reset_index()\n",
    "\n",
    "# Add equity of industries\n",
    "df_equity_industry = df_nodes[[\"Economic_Sector\", \"Total_Equity\"]].groupby(\"Economic_Sector\").sum().reset_index()\n",
    "df_edges_industry = pd.merge( df_edges_industry, df_equity_industry, how='left', left_on='level_1_sector' , right_on='Economic_Sector').drop(\"Economic_Sector\", axis=1)\n",
    "\n",
    "# Calculate % share\n",
    "df_edges_industry[\"pct_share\"] = df_edges_industry[\"dollar_share\"] / df_edges_industry[\"Total_Equity\"]\n",
    "\n",
    "df_edges_industry.sample(2)   # level_0 is source node and level_1 is target node"
   ]
  },
  {
   "cell_type": "code",
   "execution_count": 23,
   "metadata": {
    "code_folding": [
     0,
     1
    ]
   },
   "outputs": [
    {
     "name": "stdout",
     "output_type": "stream",
     "text": [
      "Name: \n",
      "Type: DiGraph\n",
      "Number of nodes: 8\n",
      "Number of edges: 57\n",
      "Average in degree:   7.1250\n",
      "Average out degree:   7.1250\n"
     ]
    }
   ],
   "source": [
    "# Graph of industries\n",
    "Gind = nx.from_pandas_edgelist(df_edges_industry, \n",
    "                                \"level_0_sector\", \"level_1_sector\", edge_attr=True,  \n",
    "                                create_using=nx.DiGraph)\n",
    "print(nx.info(Gind))"
   ]
  },
  {
   "cell_type": "code",
   "execution_count": 29,
   "metadata": {
    "code_folding": []
   },
   "outputs": [
    {
     "data": {
      "text/html": [
       "<style  type=\"text/css\" >\n",
       "</style><table id=\"T_2f296ee2_8d3d_11ea_a207_185e0fbb1f57\" ><thead>    <tr>        <th class=\"blank level0\" ></th>        <th class=\"col_heading level0 col0\" >Industry</th>        <th class=\"col_heading level0 col1\" colspan=3>Assets</th>    </tr>    <tr>        <th class=\"blank level1\" ></th>        <th class=\"col_heading level1 col0\" >count</th>        <th class=\"col_heading level1 col1\" >sum</th>        <th class=\"col_heading level1 col2\" >mean</th>        <th class=\"col_heading level1 col3\" >std</th>    </tr></thead><tbody>\n",
       "                <tr>\n",
       "                        <th id=\"T_2f296ee2_8d3d_11ea_a207_185e0fbb1f57level0_row0\" class=\"row_heading level0 row0\" >Agriculture</th>\n",
       "                        <td id=\"T_2f296ee2_8d3d_11ea_a207_185e0fbb1f57row0_col0\" class=\"data row0 col0\" >27</td>\n",
       "                        <td id=\"T_2f296ee2_8d3d_11ea_a207_185e0fbb1f57row0_col1\" class=\"data row0 col1\" >236,210</td>\n",
       "                        <td id=\"T_2f296ee2_8d3d_11ea_a207_185e0fbb1f57row0_col2\" class=\"data row0 col2\" >8,748</td>\n",
       "                        <td id=\"T_2f296ee2_8d3d_11ea_a207_185e0fbb1f57row0_col3\" class=\"data row0 col3\" >16,992</td>\n",
       "            </tr>\n",
       "            <tr>\n",
       "                        <th id=\"T_2f296ee2_8d3d_11ea_a207_185e0fbb1f57level0_row1\" class=\"row_heading level0 row1\" >Construction</th>\n",
       "                        <td id=\"T_2f296ee2_8d3d_11ea_a207_185e0fbb1f57row1_col0\" class=\"data row1 col0\" >25</td>\n",
       "                        <td id=\"T_2f296ee2_8d3d_11ea_a207_185e0fbb1f57row1_col1\" class=\"data row1 col1\" >637,069</td>\n",
       "                        <td id=\"T_2f296ee2_8d3d_11ea_a207_185e0fbb1f57row1_col2\" class=\"data row1 col2\" >25,482</td>\n",
       "                        <td id=\"T_2f296ee2_8d3d_11ea_a207_185e0fbb1f57row1_col3\" class=\"data row1 col3\" >67,830</td>\n",
       "            </tr>\n",
       "            <tr>\n",
       "                        <th id=\"T_2f296ee2_8d3d_11ea_a207_185e0fbb1f57level0_row2\" class=\"row_heading level0 row2\" >Financial Activities</th>\n",
       "                        <td id=\"T_2f296ee2_8d3d_11ea_a207_185e0fbb1f57row2_col0\" class=\"data row2 col0\" >79</td>\n",
       "                        <td id=\"T_2f296ee2_8d3d_11ea_a207_185e0fbb1f57row2_col1\" class=\"data row2 col1\" >652,579</td>\n",
       "                        <td id=\"T_2f296ee2_8d3d_11ea_a207_185e0fbb1f57row2_col2\" class=\"data row2 col2\" >8,260</td>\n",
       "                        <td id=\"T_2f296ee2_8d3d_11ea_a207_185e0fbb1f57row2_col3\" class=\"data row2 col3\" >13,952</td>\n",
       "            </tr>\n",
       "            <tr>\n",
       "                        <th id=\"T_2f296ee2_8d3d_11ea_a207_185e0fbb1f57level0_row3\" class=\"row_heading level0 row3\" >General Services</th>\n",
       "                        <td id=\"T_2f296ee2_8d3d_11ea_a207_185e0fbb1f57row3_col0\" class=\"data row3 col0\" >132</td>\n",
       "                        <td id=\"T_2f296ee2_8d3d_11ea_a207_185e0fbb1f57row3_col1\" class=\"data row3 col1\" >2,047,927</td>\n",
       "                        <td id=\"T_2f296ee2_8d3d_11ea_a207_185e0fbb1f57row3_col2\" class=\"data row3 col2\" >15,514</td>\n",
       "                        <td id=\"T_2f296ee2_8d3d_11ea_a207_185e0fbb1f57row3_col3\" class=\"data row3 col3\" >83,693</td>\n",
       "            </tr>\n",
       "            <tr>\n",
       "                        <th id=\"T_2f296ee2_8d3d_11ea_a207_185e0fbb1f57level0_row4\" class=\"row_heading level0 row4\" >Manufacturing</th>\n",
       "                        <td id=\"T_2f296ee2_8d3d_11ea_a207_185e0fbb1f57row4_col0\" class=\"data row4 col0\" >57</td>\n",
       "                        <td id=\"T_2f296ee2_8d3d_11ea_a207_185e0fbb1f57row4_col1\" class=\"data row4 col1\" >2,817,177</td>\n",
       "                        <td id=\"T_2f296ee2_8d3d_11ea_a207_185e0fbb1f57row4_col2\" class=\"data row4 col2\" >49,424</td>\n",
       "                        <td id=\"T_2f296ee2_8d3d_11ea_a207_185e0fbb1f57row4_col3\" class=\"data row4 col3\" >101,056</td>\n",
       "            </tr>\n",
       "            <tr>\n",
       "                        <th id=\"T_2f296ee2_8d3d_11ea_a207_185e0fbb1f57level0_row5\" class=\"row_heading level0 row5\" >Real Estate</th>\n",
       "                        <td id=\"T_2f296ee2_8d3d_11ea_a207_185e0fbb1f57row5_col0\" class=\"data row5 col0\" >55</td>\n",
       "                        <td id=\"T_2f296ee2_8d3d_11ea_a207_185e0fbb1f57row5_col1\" class=\"data row5 col1\" >582,149</td>\n",
       "                        <td id=\"T_2f296ee2_8d3d_11ea_a207_185e0fbb1f57row5_col2\" class=\"data row5 col2\" >10,584</td>\n",
       "                        <td id=\"T_2f296ee2_8d3d_11ea_a207_185e0fbb1f57row5_col3\" class=\"data row5 col3\" >18,270</td>\n",
       "            </tr>\n",
       "            <tr>\n",
       "                        <th id=\"T_2f296ee2_8d3d_11ea_a207_185e0fbb1f57level0_row6\" class=\"row_heading level0 row6\" >Trade</th>\n",
       "                        <td id=\"T_2f296ee2_8d3d_11ea_a207_185e0fbb1f57row6_col0\" class=\"data row6 col0\" >100</td>\n",
       "                        <td id=\"T_2f296ee2_8d3d_11ea_a207_185e0fbb1f57row6_col1\" class=\"data row6 col1\" >3,242,711</td>\n",
       "                        <td id=\"T_2f296ee2_8d3d_11ea_a207_185e0fbb1f57row6_col2\" class=\"data row6 col2\" >32,427</td>\n",
       "                        <td id=\"T_2f296ee2_8d3d_11ea_a207_185e0fbb1f57row6_col3\" class=\"data row6 col3\" >147,097</td>\n",
       "            </tr>\n",
       "            <tr>\n",
       "                        <th id=\"T_2f296ee2_8d3d_11ea_a207_185e0fbb1f57level0_row7\" class=\"row_heading level0 row7\" >Transportation</th>\n",
       "                        <td id=\"T_2f296ee2_8d3d_11ea_a207_185e0fbb1f57row7_col0\" class=\"data row7 col0\" >29</td>\n",
       "                        <td id=\"T_2f296ee2_8d3d_11ea_a207_185e0fbb1f57row7_col1\" class=\"data row7 col1\" >695,901</td>\n",
       "                        <td id=\"T_2f296ee2_8d3d_11ea_a207_185e0fbb1f57row7_col2\" class=\"data row7 col2\" >23,996</td>\n",
       "                        <td id=\"T_2f296ee2_8d3d_11ea_a207_185e0fbb1f57row7_col3\" class=\"data row7 col3\" >97,661</td>\n",
       "            </tr>\n",
       "    </tbody></table>"
      ],
      "text/plain": [
       "<pandas.io.formats.style.Styler at 0x22b1abe7388>"
      ]
     },
     "execution_count": 29,
     "metadata": {},
     "output_type": "execute_result"
    }
   ],
   "source": [
    "# Cross-holding shares by Industry level\n",
    "df = pd.DataFrame(data = nx.adjacency_matrix(Gind, weight=\"dollar_share\").toarray(), \n",
    "                  index = Gind.nodes, \n",
    "                  columns = Gind.nodes) / 1000\n",
    "df = df.astype(\"int\")\n",
    "\n",
    "# Total Assets by firm\n",
    "list_assets = list( nx.get_node_attributes(G, \"Total_Assets\").items() )\n",
    "df_assets = pd.DataFrame(list_assets, columns=['Ruc', 'Assets'])\n",
    "df_assets[\"Assets\"] = df_assets[\"Assets\"] / 1000\n",
    "\n",
    "# Economic sector fy firm\n",
    "list_econ_sector = list( nx.get_node_attributes(G, \"Economic_Sector\").items() )\n",
    "df_econ_sector = pd.DataFrame(list_econ_sector, columns=['Ruc', 'Industry'])\n",
    "\n",
    "# Merge datasets\n",
    "df_nodes = df_econ_sector.merge(df_assets, \n",
    "                                how='outer', on='Ruc').merge(df_crossholders, \n",
    "                                                             how='outer', on='Ruc' )\n",
    "\n",
    "# Calculate statistics\n",
    "df_industry = df_nodes.groupby(\"Industry\").agg({\"Industry\": \"count\",\n",
    "                                                   \"Assets\": [\"sum\", \"mean\", \"std\"]})\n",
    "\n",
    "df_industry = df_industry.astype(\"int\").style.format(\"{:,.0f}\")\n",
    "df_industry.index.name = None\n",
    "\n",
    "df_industry.to_excel(os.path.join('..', '3_results', 'data', \"industry_stats_sum.xlsx\"))\n",
    "df_industry"
   ]
  },
  {
   "cell_type": "code",
   "execution_count": 24,
   "metadata": {
    "code_folding": []
   },
   "outputs": [
    {
     "data": {
      "text/html": [
       "<style  type=\"text/css\" >\n",
       "</style><table id=\"T_9ad434ba_8d3c_11ea_a04f_185e0fbb1f57\" ><thead>    <tr>        <th class=\"blank level0\" ></th>        <th class=\"col_heading level0 col0\" >('Industry', 'count')</th>        <th class=\"col_heading level0 col1\" >('Cross-holders', 'sum')</th>        <th class=\"col_heading level0 col2\" >('Assets', 'mean')</th>        <th class=\"col_heading level0 col3\" >('Assets', 'std')</th>        <th class=\"col_heading level0 col4\" >In</th>        <th class=\"col_heading level0 col5\" >Out</th>    </tr></thead><tbody>\n",
       "                <tr>\n",
       "                        <th id=\"T_9ad434ba_8d3c_11ea_a04f_185e0fbb1f57level0_row0\" class=\"row_heading level0 row0\" >Agriculture</th>\n",
       "                        <td id=\"T_9ad434ba_8d3c_11ea_a04f_185e0fbb1f57row0_col0\" class=\"data row0 col0\" >27</td>\n",
       "                        <td id=\"T_9ad434ba_8d3c_11ea_a04f_185e0fbb1f57row0_col1\" class=\"data row0 col1\" >26</td>\n",
       "                        <td id=\"T_9ad434ba_8d3c_11ea_a04f_185e0fbb1f57row0_col2\" class=\"data row0 col2\" >8,748</td>\n",
       "                        <td id=\"T_9ad434ba_8d3c_11ea_a04f_185e0fbb1f57row0_col3\" class=\"data row0 col3\" >16,992</td>\n",
       "                        <td id=\"T_9ad434ba_8d3c_11ea_a04f_185e0fbb1f57row0_col4\" class=\"data row0 col4\" >978</td>\n",
       "                        <td id=\"T_9ad434ba_8d3c_11ea_a04f_185e0fbb1f57row0_col5\" class=\"data row0 col5\" >3,082</td>\n",
       "            </tr>\n",
       "            <tr>\n",
       "                        <th id=\"T_9ad434ba_8d3c_11ea_a04f_185e0fbb1f57level0_row1\" class=\"row_heading level0 row1\" >Construction</th>\n",
       "                        <td id=\"T_9ad434ba_8d3c_11ea_a04f_185e0fbb1f57row1_col0\" class=\"data row1 col0\" >25</td>\n",
       "                        <td id=\"T_9ad434ba_8d3c_11ea_a04f_185e0fbb1f57row1_col1\" class=\"data row1 col1\" >22</td>\n",
       "                        <td id=\"T_9ad434ba_8d3c_11ea_a04f_185e0fbb1f57row1_col2\" class=\"data row1 col2\" >25,482</td>\n",
       "                        <td id=\"T_9ad434ba_8d3c_11ea_a04f_185e0fbb1f57row1_col3\" class=\"data row1 col3\" >67,830</td>\n",
       "                        <td id=\"T_9ad434ba_8d3c_11ea_a04f_185e0fbb1f57row1_col4\" class=\"data row1 col4\" >76,412</td>\n",
       "                        <td id=\"T_9ad434ba_8d3c_11ea_a04f_185e0fbb1f57row1_col5\" class=\"data row1 col5\" >164</td>\n",
       "            </tr>\n",
       "            <tr>\n",
       "                        <th id=\"T_9ad434ba_8d3c_11ea_a04f_185e0fbb1f57level0_row2\" class=\"row_heading level0 row2\" >Financial Activities</th>\n",
       "                        <td id=\"T_9ad434ba_8d3c_11ea_a04f_185e0fbb1f57row2_col0\" class=\"data row2 col0\" >79</td>\n",
       "                        <td id=\"T_9ad434ba_8d3c_11ea_a04f_185e0fbb1f57row2_col1\" class=\"data row2 col1\" >139</td>\n",
       "                        <td id=\"T_9ad434ba_8d3c_11ea_a04f_185e0fbb1f57row2_col2\" class=\"data row2 col2\" >8,260</td>\n",
       "                        <td id=\"T_9ad434ba_8d3c_11ea_a04f_185e0fbb1f57row2_col3\" class=\"data row2 col3\" >13,952</td>\n",
       "                        <td id=\"T_9ad434ba_8d3c_11ea_a04f_185e0fbb1f57row2_col4\" class=\"data row2 col4\" >6,285</td>\n",
       "                        <td id=\"T_9ad434ba_8d3c_11ea_a04f_185e0fbb1f57row2_col5\" class=\"data row2 col5\" >133,601</td>\n",
       "            </tr>\n",
       "            <tr>\n",
       "                        <th id=\"T_9ad434ba_8d3c_11ea_a04f_185e0fbb1f57level0_row3\" class=\"row_heading level0 row3\" >General Services</th>\n",
       "                        <td id=\"T_9ad434ba_8d3c_11ea_a04f_185e0fbb1f57row3_col0\" class=\"data row3 col0\" >132</td>\n",
       "                        <td id=\"T_9ad434ba_8d3c_11ea_a04f_185e0fbb1f57row3_col1\" class=\"data row3 col1\" >133</td>\n",
       "                        <td id=\"T_9ad434ba_8d3c_11ea_a04f_185e0fbb1f57row3_col2\" class=\"data row3 col2\" >15,514</td>\n",
       "                        <td id=\"T_9ad434ba_8d3c_11ea_a04f_185e0fbb1f57row3_col3\" class=\"data row3 col3\" >83,693</td>\n",
       "                        <td id=\"T_9ad434ba_8d3c_11ea_a04f_185e0fbb1f57row3_col4\" class=\"data row3 col4\" >1,409</td>\n",
       "                        <td id=\"T_9ad434ba_8d3c_11ea_a04f_185e0fbb1f57row3_col5\" class=\"data row3 col5\" >31,455</td>\n",
       "            </tr>\n",
       "            <tr>\n",
       "                        <th id=\"T_9ad434ba_8d3c_11ea_a04f_185e0fbb1f57level0_row4\" class=\"row_heading level0 row4\" >Manufacturing</th>\n",
       "                        <td id=\"T_9ad434ba_8d3c_11ea_a04f_185e0fbb1f57row4_col0\" class=\"data row4 col0\" >57</td>\n",
       "                        <td id=\"T_9ad434ba_8d3c_11ea_a04f_185e0fbb1f57row4_col1\" class=\"data row4 col1\" >39</td>\n",
       "                        <td id=\"T_9ad434ba_8d3c_11ea_a04f_185e0fbb1f57row4_col2\" class=\"data row4 col2\" >49,424</td>\n",
       "                        <td id=\"T_9ad434ba_8d3c_11ea_a04f_185e0fbb1f57row4_col3\" class=\"data row4 col3\" >101,056</td>\n",
       "                        <td id=\"T_9ad434ba_8d3c_11ea_a04f_185e0fbb1f57row4_col4\" class=\"data row4 col4\" >1</td>\n",
       "                        <td id=\"T_9ad434ba_8d3c_11ea_a04f_185e0fbb1f57row4_col5\" class=\"data row4 col5\" >3,826</td>\n",
       "            </tr>\n",
       "            <tr>\n",
       "                        <th id=\"T_9ad434ba_8d3c_11ea_a04f_185e0fbb1f57level0_row5\" class=\"row_heading level0 row5\" >Real Estate</th>\n",
       "                        <td id=\"T_9ad434ba_8d3c_11ea_a04f_185e0fbb1f57row5_col0\" class=\"data row5 col0\" >55</td>\n",
       "                        <td id=\"T_9ad434ba_8d3c_11ea_a04f_185e0fbb1f57row5_col1\" class=\"data row5 col1\" >59</td>\n",
       "                        <td id=\"T_9ad434ba_8d3c_11ea_a04f_185e0fbb1f57row5_col2\" class=\"data row5 col2\" >10,584</td>\n",
       "                        <td id=\"T_9ad434ba_8d3c_11ea_a04f_185e0fbb1f57row5_col3\" class=\"data row5 col3\" >18,270</td>\n",
       "                        <td id=\"T_9ad434ba_8d3c_11ea_a04f_185e0fbb1f57row5_col4\" class=\"data row5 col4\" >330</td>\n",
       "                        <td id=\"T_9ad434ba_8d3c_11ea_a04f_185e0fbb1f57row5_col5\" class=\"data row5 col5\" >6,661</td>\n",
       "            </tr>\n",
       "            <tr>\n",
       "                        <th id=\"T_9ad434ba_8d3c_11ea_a04f_185e0fbb1f57level0_row6\" class=\"row_heading level0 row6\" >Trade</th>\n",
       "                        <td id=\"T_9ad434ba_8d3c_11ea_a04f_185e0fbb1f57row6_col0\" class=\"data row6 col0\" >100</td>\n",
       "                        <td id=\"T_9ad434ba_8d3c_11ea_a04f_185e0fbb1f57row6_col1\" class=\"data row6 col1\" >107</td>\n",
       "                        <td id=\"T_9ad434ba_8d3c_11ea_a04f_185e0fbb1f57row6_col2\" class=\"data row6 col2\" >32,427</td>\n",
       "                        <td id=\"T_9ad434ba_8d3c_11ea_a04f_185e0fbb1f57row6_col3\" class=\"data row6 col3\" >147,097</td>\n",
       "                        <td id=\"T_9ad434ba_8d3c_11ea_a04f_185e0fbb1f57row6_col4\" class=\"data row6 col4\" >31,236</td>\n",
       "                        <td id=\"T_9ad434ba_8d3c_11ea_a04f_185e0fbb1f57row6_col5\" class=\"data row6 col5\" >36,839</td>\n",
       "            </tr>\n",
       "            <tr>\n",
       "                        <th id=\"T_9ad434ba_8d3c_11ea_a04f_185e0fbb1f57level0_row7\" class=\"row_heading level0 row7\" >Transportation</th>\n",
       "                        <td id=\"T_9ad434ba_8d3c_11ea_a04f_185e0fbb1f57row7_col0\" class=\"data row7 col0\" >29</td>\n",
       "                        <td id=\"T_9ad434ba_8d3c_11ea_a04f_185e0fbb1f57row7_col1\" class=\"data row7 col1\" >15</td>\n",
       "                        <td id=\"T_9ad434ba_8d3c_11ea_a04f_185e0fbb1f57row7_col2\" class=\"data row7 col2\" >23,996</td>\n",
       "                        <td id=\"T_9ad434ba_8d3c_11ea_a04f_185e0fbb1f57row7_col3\" class=\"data row7 col3\" >97,661</td>\n",
       "                        <td id=\"T_9ad434ba_8d3c_11ea_a04f_185e0fbb1f57row7_col4\" class=\"data row7 col4\" >9,351</td>\n",
       "                        <td id=\"T_9ad434ba_8d3c_11ea_a04f_185e0fbb1f57row7_col5\" class=\"data row7 col5\" >136</td>\n",
       "            </tr>\n",
       "    </tbody></table>"
      ],
      "text/plain": [
       "<pandas.io.formats.style.Styler at 0x22b1a6df548>"
      ]
     },
     "execution_count": 24,
     "metadata": {},
     "output_type": "execute_result"
    }
   ],
   "source": [
    "# Cross-holding shares by Industry level\n",
    "df = pd.DataFrame(data = nx.adjacency_matrix(Gind, weight=\"dollar_share\").toarray(), \n",
    "                  index = Gind.nodes, \n",
    "                  columns = Gind.nodes) / 1000\n",
    "df = df.astype(\"int\")\n",
    "df_industry_share = pd.DataFrame(index = df.index)\n",
    "df_industry_share[\"In\"] = np.diag(df)\n",
    "df_industry_share[\"Out\"] = df.sum(axis=1) - np.diag(df)\n",
    "\n",
    "# Total Assets by firm\n",
    "list_assets = list( nx.get_node_attributes(G, \"Total_Assets\").items() )\n",
    "df_assets = pd.DataFrame(list_assets, columns=['Ruc', 'Assets'])\n",
    "df_assets[\"Assets\"] = df_assets[\"Assets\"] / 1000\n",
    "\n",
    "# Total Cross-holders by firm\n",
    "list_crossholders = list( dict( G.out_degree(weight=None) ).items() )\n",
    "df_crossholders = pd.DataFrame(list_crossholders, columns=['Ruc', 'Cross-holders'])\n",
    "\n",
    "# Economic sector fy firm\n",
    "list_econ_sector = list( nx.get_node_attributes(G, \"Economic_Sector\").items() )\n",
    "df_econ_sector = pd.DataFrame(list_econ_sector, columns=['Ruc', 'Industry'])\n",
    "\n",
    "# Merge datasets\n",
    "df_nodes = df_econ_sector.merge(df_assets, \n",
    "                                how='outer', on='Ruc').merge(df_crossholders, \n",
    "                                                             how='outer', on='Ruc' )\n",
    "\n",
    "# Calculate statistics\n",
    "df_industry = df_nodes.groupby(\"Industry\").agg({\"Industry\": \"count\",\n",
    "                                                   \"Cross-holders\": \"sum\",\n",
    "                                                   \"Assets\": [\"mean\", \"std\"]})\n",
    "\n",
    "df_industry = df_industry.merge(df_industry_share, left_index=True, right_index=True)\n",
    "df_industry = df_industry.astype(\"int\").style.format(\"{:,.0f}\")\n",
    "df_industry.index.name = None\n",
    "\n",
    "# df_industry.to_excel(os.path.join('3_results', , 'data', \"industry_stats.xlsx\"))\n",
    "df_industry"
   ]
  },
  {
   "cell_type": "markdown",
   "metadata": {},
   "source": [
    "## Financial contagion"
   ]
  },
  {
   "cell_type": "markdown",
   "metadata": {},
   "source": [
    "We will estimate the ultimate market value lost due to a specific firm's failure."
   ]
  },
  {
   "cell_type": "markdown",
   "metadata": {},
   "source": [
    "###  Price of assets"
   ]
  },
  {
   "cell_type": "markdown",
   "metadata": {},
   "source": [
    "For concreteness, a primitive asset may be thought of as a project that generates a net ﬂow of cash over time. The present value (or market price) of asset $k$ is denoted $p_k$."
   ]
  },
  {
   "cell_type": "code",
   "execution_count": 29,
   "metadata": {
    "code_folding": [
     0
    ]
   },
   "outputs": [],
   "source": [
    "# Define DP\n",
    "\n",
    "p = np.array( list(nx.get_node_attributes(G, \"Total_Assets\").values()) )\n",
    "\n",
    "p = p.reshape(len(p),1)"
   ]
  },
  {
   "cell_type": "markdown",
   "metadata": {},
   "source": [
    "### Dependency matrix"
   ]
  },
  {
   "cell_type": "markdown",
   "metadata": {},
   "source": [
    "We refer to $A = \\hat{C}(I − C)^{−1}$ as the dependency matrix. It is reminiscent of Leontief’s (1951) input-output analysis. Equation $v = A D p$ shows that the value of an organization can be represented as a sum of the values of its ultimate claims\n",
    "on primitive assets, with organization $i$ owning a share $A_{ij}$ of $j$’s direct holdings of primitive assets. \n",
    "\n",
    "This is the portfolio of underlying assets an outside investor would hold to replicate the returns generated by holding organization $i$. To see this, suppose each organization fully owns exactly one proprietary asset, so that $m = n$ and $D = I$. In this case, $A_{ij}$ describes the dependence of i’s value on j’s proprietary asset."
   ]
  },
  {
   "cell_type": "code",
   "execution_count": 30,
   "metadata": {
    "code_folding": [
     0
    ]
   },
   "outputs": [
    {
     "data": {
      "text/plain": [
       "array([[1.  , 0.  , 0.  , ..., 0.  , 0.  , 0.  ],\n",
       "       [0.  , 0.95, 0.  , ..., 0.  , 0.  , 0.  ],\n",
       "       [0.  , 0.05, 1.  , ..., 0.  , 0.  , 0.  ],\n",
       "       ...,\n",
       "       [0.  , 0.  , 0.  , ..., 0.  , 0.  , 0.  ],\n",
       "       [0.  , 0.  , 0.  , ..., 0.  , 0.45, 0.  ],\n",
       "       [0.  , 0.  , 0.  , ..., 0.  , 0.  , 0.  ]])"
      ]
     },
     "execution_count": 30,
     "metadata": {},
     "output_type": "execute_result"
    }
   ],
   "source": [
    "# Define A (dependency matrix)\n",
    "A = np.dot( Chat, np.linalg.inv( np.eye(n) - C ) )\n",
    "\n",
    "np.around(A, decimals=2)"
   ]
  },
  {
   "cell_type": "code",
   "execution_count": 31,
   "metadata": {
    "code_folding": [
     0
    ]
   },
   "outputs": [],
   "source": [
    "# Creating Dependency Matrix by Industry Level\n",
    "\n",
    "Cind = nx.adjacency_matrix(Gind, weight=\"pct_share\").todense()\n",
    "Cind = np.array(Cind)\n",
    "\n",
    "Chatind = np.diag(1 - sum(Cind))\n",
    "\n",
    "Aind = np.dot( Chatind, np.linalg.inv( np.eye(8) - Cind ) )\n",
    "\n",
    "df_dependency_industry = pd.DataFrame(data = Aind, \n",
    "                                index = Gind.nodes, \n",
    "                                columns = Gind.nodes) * 100"
   ]
  },
  {
   "cell_type": "code",
   "execution_count": 33,
   "metadata": {
    "code_folding": [
     0
    ]
   },
   "outputs": [
    {
     "name": "stdout",
     "output_type": "stream",
     "text": [
      "Graph information\n",
      "Name: \n",
      "Type: DiGraph\n",
      "Number of nodes: 504\n",
      "Number of edges: 1910\n",
      "Average in degree:   3.7897\n",
      "Average out degree:   3.7897\n",
      "\n",
      "\n",
      "Numero of Weakly CC: 93\n",
      "\n",
      "\n",
      "Largest Weakly Component information\n",
      "Name: \n",
      "Type: DiGraph\n",
      "Number of nodes: 239\n",
      "Number of edges: 1390\n",
      "Average in degree:   5.8159\n",
      "Average out degree:   5.8159\n"
     ]
    }
   ],
   "source": [
    "# Creating Dependency Graph\n",
    "Gflow = nx.from_numpy_matrix(A, create_using=nx.DiGraph())\n",
    "dict_temp = {}\n",
    "for i in range(504):\n",
    "    dict_temp[i] = names[i]\n",
    "    \n",
    "Gflow = nx.relabel_nodes(Gflow, dict_temp)\n",
    "nx.set_node_attributes(Gflow, nx.get_node_attributes(G, \"Economic_Sector\"), name=\"Economic_Sector\")\n",
    "\n",
    "# Largest component\n",
    "\n",
    "Scc = max(nx.strongly_connected_component_subgraphs(Gflow), key=len)\n",
    "Wcc = max(nx.weakly_connected_component_subgraphs(Gflow), key=len)\n",
    "\n",
    "print('Graph information\\n', nx.info(Gflow), '\\n\\n', sep='')\n",
    "print('Numero of Weakly CC: ', nx.number_weakly_connected_components(Gflow), '\\n\\n', sep='')\n",
    "print('Largest Weakly Component information\\n', nx.info(Wcc), sep='')"
   ]
  },
  {
   "cell_type": "code",
   "execution_count": 34,
   "metadata": {
    "code_folding": [
     0
    ]
   },
   "outputs": [
    {
     "name": "stdout",
     "output_type": "stream",
     "text": [
      "Assortativity coefficient of Economic Sectors: 0.3066\n"
     ]
    }
   ],
   "source": [
    "# Homophily in Dependency Network\n",
    "r = nx.attribute_assortativity_coefficient(Gflow, attribute=\"Economic_Sector\")\n",
    "print(\"Assortativity coefficient of Economic Sectors: {:.4f}\".format(r))"
   ]
  },
  {
   "cell_type": "code",
   "execution_count": 35,
   "metadata": {
    "code_folding": [
     0
    ]
   },
   "outputs": [
    {
     "name": "stdout",
     "output_type": "stream",
     "text": [
      "Density: 0.0075\n",
      "Average Clustering: 0.1500\n",
      "Average Shortest Path Length: 0.0202\n"
     ]
    }
   ],
   "source": [
    "# Network Characteristics\n",
    "print(\"Density: {:.4f}\".format( nx.density(Gflow) ))\n",
    "\n",
    "print(\"Average Clustering: {:.4f}\".format( nx.average_clustering(Gflow) ))\n",
    "\n",
    "print(\"Average Shortest Path Length: {:.4f}\".format( nx.average_shortest_path_length(Wcc) ))"
   ]
  },
  {
   "cell_type": "code",
   "execution_count": 36,
   "metadata": {
    "code_folding": [
     0
    ]
   },
   "outputs": [],
   "source": [
    "#  Write to Final Dependency Graph\n",
    "nx.write_gpickle(Gflow, \n",
    "                 os.path.join(pipeline, 'graph_assetflow_{}.gpickle'.format(year)))\n",
    "\n",
    "\n",
    "\"\"\" Write to GEXF \"\"\" \n",
    "# Use 1.2draft so you do not get a deprecated warning in Gephi\n",
    "nx.write_gexf(Gflow, \n",
    "              os.path.join(pipeline, 'gephi_assetflow_{}.gexf'.format(year)), \n",
    "              version=\"1.2draft\")"
   ]
  },
  {
   "cell_type": "markdown",
   "metadata": {},
   "source": [
    "### Cascades of defaults"
   ]
  },
  {
   "cell_type": "markdown",
   "metadata": {},
   "source": [
    "We base failure costs on the (market) value of an organization $v_i$. An entry $A_{ij}$ of the dependency matrix describes the proportion of $j$’s failure costs that $i$ bears when $j$ fails as well as $i$’s claims on the primitive assets that $j$ directly holds. If organization $j$ fails, thereby incurring failure costs of $\\beta_j$, then $i$’s value will decrease by $A_{ij} \\beta_j$."
   ]
  },
  {
   "cell_type": "markdown",
   "metadata": {},
   "source": [
    "There is a critical threshold $ \\underline{v}_i $ such that if the value available to the owner-operator falls below it, he or she chooses to cease operations and to liquidate the asset. In other words, once $ v_i < \\underline{v}_i $ the asset is liquidated."
   ]
  },
  {
   "cell_type": "code",
   "execution_count": 37,
   "metadata": {
    "code_folding": [
     0
    ]
   },
   "outputs": [],
   "source": [
    "# Normalize assets\n",
    "\n",
    "min_value = min(p)\n",
    "pnorm = p / min_value[0]"
   ]
  },
  {
   "cell_type": "code",
   "execution_count": 38,
   "metadata": {
    "code_folding": [
     0
    ]
   },
   "outputs": [],
   "source": [
    "def cascade_failures(dependency_matrix, theta_value, assets_price, list_firms, pct, costpct):\n",
    "    \"\"\"\n",
    "    Calculating: \n",
    "    1. Total firms affected in the cascade of defaults\n",
    "    2. Total costs of defaults\n",
    "    3. ID of firms affected\n",
    "    \"\"\"\n",
    "    n_total = dependency_matrix.shape[0]\n",
    "    threshold_value = theta_value * np.dot( dependency_matrix, assets_price )\n",
    "    current_price = copy.deepcopy(assets_price)\n",
    "    beta_value = threshold_value * costpct\n",
    "    \n",
    "    list_failed_firms = []\n",
    "    wave = 0\n",
    "    all_failure_indicator = np.zeros( (n_total, 1) )\n",
    "    total_costs = 0\n",
    "\n",
    "    while ( wave == 0 ) or ( new_failed_firms.size != 0 ):\n",
    "        wave += 1\n",
    "        \n",
    "        if wave == 1:\n",
    "            all_failure_indicator[list_firms] = 1\n",
    "            current_price[list_firms] = current_price[list_firms] * pct\n",
    "            new_failed_firms = np.where(all_failure_indicator == 1)[0]\n",
    "            \n",
    "        else:\n",
    "            fail_one = ( np.dot( dependency_matrix, current_price ) < threshold_value ).astype(int)\n",
    "            fail_two = ( all_failure_indicator == 0 ).astype(int)\n",
    "            new_failure_indicator = fail_one * fail_two\n",
    "\n",
    "            all_failure_indicator = np.maximum( all_failure_indicator, new_failure_indicator ) # all failures to date\n",
    "            \n",
    "            total_costs = total_costs + ( new_failure_indicator * beta_value ).sum()\n",
    "\n",
    "            current_price = current_price - ( new_failure_indicator * beta_value )\n",
    "\n",
    "            new_failed_firms = np.where(new_failure_indicator == 1)[0]\n",
    "        \n",
    "        list_failed_firms.append(new_failed_firms)\n",
    "    total_firms = all_failure_indicator.sum() - len(list_firms)\n",
    "    \n",
    "    return total_firms, total_costs, list_failed_firms"
   ]
  },
  {
   "cell_type": "code",
   "execution_count": 39,
   "metadata": {
    "code_folding": [
     2
    ]
   },
   "outputs": [],
   "source": [
    "econ_sector = nx.get_node_attributes(G, \"Economic_Sector\")\n",
    "\n",
    "def firms_econ_sector(econ_sector, graph, name_group):\n",
    "    \"\"\"\n",
    "    Create list of index of firms by economic sector\n",
    "    \"\"\"\n",
    "    i = 0\n",
    "    list_index = []\n",
    "    for f in graph.nodes:\n",
    "        if econ_sector[f] == name_group:\n",
    "            list_index.append(i)\n",
    "        i += 1\n",
    "        \n",
    "    return list_index"
   ]
  },
  {
   "cell_type": "code",
   "execution_count": 40,
   "metadata": {
    "code_folding": [
     0
    ]
   },
   "outputs": [],
   "source": [
    "def result_failures(theta, drop_pct, failcost_pct, group=False):\n",
    "    \"\"\"\n",
    "    Return a dataframe with firm(s) that received the shock, and the total firms affected\n",
    "    \"\"\"\n",
    "    firms_failed_list = []\n",
    "    costs_failed_list = []\n",
    "    single_firm_list = []\n",
    "    other_firm_list = []\n",
    "\n",
    "    if group:\n",
    "        for name_group in set(econ_sector.values()):\n",
    "            index_group = firms_econ_sector(econ_sector, G, name_group)\n",
    "\n",
    "            result_firms, result_costs, idx_failed_firms = cascade_failures(A, theta, pnorm, index_group, drop_pct, failcost_pct)\n",
    "            firms_failed_list.append( result_firms )\n",
    "            costs_failed_list.append( result_costs )\n",
    "            single_firm_list.append( name_group )\n",
    "            other_firm_list.append([names[fidx] for fidx in idx_failed_firms])\n",
    "        \n",
    "    else:\n",
    "        for f in np.arange(n):\n",
    "            result_firms, result_costs, idx_failed_firms = cascade_failures(A, theta, pnorm, [f], drop_pct, failcost_pct)\n",
    "            firms_failed_list.append( result_firms )\n",
    "            costs_failed_list.append( result_costs )\n",
    "            single_firm_list.append( names[f] )\n",
    "#             other_firm_list += [names[ff] for ff in fff]\n",
    "            other_firm_list.append([names[fidx] for fidx in idx_failed_firms])\n",
    "        \n",
    "    df_single_firm = pd.DataFrame([single_firm_list, firms_failed_list, costs_failed_list, other_firm_list]).T\n",
    "    df_single_firm.columns = [\"Firms\", \"Total_Affected\", \"Total_Costs\", \"List_Firms_Affected\"]\n",
    "    df = df_single_firm.sort_values(\"Total_Affected\", ascending=False).reset_index(drop=True)\n",
    "    \n",
    "    return df"
   ]
  },
  {
   "cell_type": "markdown",
   "metadata": {},
   "source": [
    "### Firms' Defaults"
   ]
  },
  {
   "cell_type": "code",
   "execution_count": 41,
   "metadata": {
    "code_folding": [
     0
    ]
   },
   "outputs": [
    {
     "data": {
      "text/html": [
       "<div>\n",
       "<style scoped>\n",
       "    .dataframe tbody tr th:only-of-type {\n",
       "        vertical-align: middle;\n",
       "    }\n",
       "\n",
       "    .dataframe tbody tr th {\n",
       "        vertical-align: top;\n",
       "    }\n",
       "\n",
       "    .dataframe thead th {\n",
       "        text-align: right;\n",
       "    }\n",
       "</style>\n",
       "<table border=\"1\" class=\"dataframe\">\n",
       "  <thead>\n",
       "    <tr style=\"text-align: right;\">\n",
       "      <th></th>\n",
       "      <th>Firms</th>\n",
       "      <th>Total_Affected</th>\n",
       "      <th>Total_Costs</th>\n",
       "      <th>List_Firms_Affected</th>\n",
       "      <th>Industry</th>\n",
       "    </tr>\n",
       "  </thead>\n",
       "  <tbody>\n",
       "    <tr>\n",
       "      <td>0</td>\n",
       "      <td>1790008967001</td>\n",
       "      <td>19</td>\n",
       "      <td>1333.27</td>\n",
       "      <td>[[1790607127001, 1791123298001, 1791267990001,...</td>\n",
       "      <td>Financial Activities</td>\n",
       "    </tr>\n",
       "    <tr>\n",
       "      <td>1</td>\n",
       "      <td>1790016919001</td>\n",
       "      <td>19</td>\n",
       "      <td>6799.98</td>\n",
       "      <td>[[1790013324001, 1790384128001, 1790457044001,...</td>\n",
       "      <td>Trade</td>\n",
       "    </tr>\n",
       "    <tr>\n",
       "      <td>2</td>\n",
       "      <td>1790370690001</td>\n",
       "      <td>8</td>\n",
       "      <td>21236.6</td>\n",
       "      <td>[[1390000991001, 1790340465001], [179126251400...</td>\n",
       "      <td>Agriculture</td>\n",
       "    </tr>\n",
       "  </tbody>\n",
       "</table>\n",
       "</div>"
      ],
      "text/plain": [
       "           Firms Total_Affected Total_Costs  \\\n",
       "0  1790008967001             19     1333.27   \n",
       "1  1790016919001             19     6799.98   \n",
       "2  1790370690001              8     21236.6   \n",
       "\n",
       "                                 List_Firms_Affected              Industry  \n",
       "0  [[1790607127001, 1791123298001, 1791267990001,...  Financial Activities  \n",
       "1  [[1790013324001, 1790384128001, 1790457044001,...                 Trade  \n",
       "2  [[1390000991001, 1790340465001], [179126251400...           Agriculture  "
      ]
     },
     "execution_count": 41,
     "metadata": {},
     "output_type": "execute_result"
    }
   ],
   "source": [
    "# Calculating default of each firm with th=0.95 drop=100, cost=30\n",
    "df = result_failures(0.95, 0, 0.30, group=False)\n",
    "df[\"List_Firms_Affected\"] = df[\"List_Firms_Affected\"].apply(lambda x: x[1:-1])\n",
    "df[\"Industry\"] = df[\"Firms\"].map(econ_sector)\n",
    "df[:3]"
   ]
  },
  {
   "cell_type": "markdown",
   "metadata": {},
   "source": [
    "### Industry Defaults"
   ]
  },
  {
   "cell_type": "code",
   "execution_count": 43,
   "metadata": {
    "code_folding": [
     0
    ],
    "scrolled": true
   },
   "outputs": [
    {
     "data": {
      "text/html": [
       "<div>\n",
       "<style scoped>\n",
       "    .dataframe tbody tr th:only-of-type {\n",
       "        vertical-align: middle;\n",
       "    }\n",
       "\n",
       "    .dataframe tbody tr th {\n",
       "        vertical-align: top;\n",
       "    }\n",
       "\n",
       "    .dataframe thead th {\n",
       "        text-align: right;\n",
       "    }\n",
       "</style>\n",
       "<table border=\"1\" class=\"dataframe\">\n",
       "  <thead>\n",
       "    <tr style=\"text-align: right;\">\n",
       "      <th></th>\n",
       "      <th>Firms</th>\n",
       "      <th>Total_Affected</th>\n",
       "      <th>Total_Costs</th>\n",
       "      <th>List_Firms_Affected</th>\n",
       "    </tr>\n",
       "  </thead>\n",
       "  <tbody>\n",
       "    <tr>\n",
       "      <td>0</td>\n",
       "      <td>Manufacturing</td>\n",
       "      <td>42</td>\n",
       "      <td>53161.7</td>\n",
       "      <td>[[1191757544001, 1790607127001, 1791262514001,...</td>\n",
       "    </tr>\n",
       "    <tr>\n",
       "      <td>1</td>\n",
       "      <td>Trade</td>\n",
       "      <td>40</td>\n",
       "      <td>24222.7</td>\n",
       "      <td>[[1790044297001, 1790371107001, 1190000709001,...</td>\n",
       "    </tr>\n",
       "    <tr>\n",
       "      <td>2</td>\n",
       "      <td>General Services</td>\n",
       "      <td>27</td>\n",
       "      <td>14176</td>\n",
       "      <td>[[1790371107001, 1790015718001, 1790015726001,...</td>\n",
       "    </tr>\n",
       "    <tr>\n",
       "      <td>3</td>\n",
       "      <td>Financial Activities</td>\n",
       "      <td>18</td>\n",
       "      <td>8697.85</td>\n",
       "      <td>[[1790428400001, 1790360741001, 1790388948001,...</td>\n",
       "    </tr>\n",
       "    <tr>\n",
       "      <td>4</td>\n",
       "      <td>Real Estate</td>\n",
       "      <td>16</td>\n",
       "      <td>21461.9</td>\n",
       "      <td>[[1790044297001, 1792504538001, 1790453146001,...</td>\n",
       "    </tr>\n",
       "    <tr>\n",
       "      <td>5</td>\n",
       "      <td>Agriculture</td>\n",
       "      <td>10</td>\n",
       "      <td>16636.3</td>\n",
       "      <td>[[1390000991001, 1790340465001, 1790983447001,...</td>\n",
       "    </tr>\n",
       "    <tr>\n",
       "      <td>6</td>\n",
       "      <td>Transportation</td>\n",
       "      <td>6</td>\n",
       "      <td>609.221</td>\n",
       "      <td>[[1891724094001, 1290046374001, 1791240537001,...</td>\n",
       "    </tr>\n",
       "    <tr>\n",
       "      <td>7</td>\n",
       "      <td>Construction</td>\n",
       "      <td>6</td>\n",
       "      <td>7875.33</td>\n",
       "      <td>[[1790424472001, 1790366022001, 1190049406001,...</td>\n",
       "    </tr>\n",
       "  </tbody>\n",
       "</table>\n",
       "</div>"
      ],
      "text/plain": [
       "                  Firms Total_Affected Total_Costs  \\\n",
       "0         Manufacturing             42     53161.7   \n",
       "1                 Trade             40     24222.7   \n",
       "2      General Services             27       14176   \n",
       "3  Financial Activities             18     8697.85   \n",
       "4           Real Estate             16     21461.9   \n",
       "5           Agriculture             10     16636.3   \n",
       "6        Transportation              6     609.221   \n",
       "7          Construction              6     7875.33   \n",
       "\n",
       "                                 List_Firms_Affected  \n",
       "0  [[1191757544001, 1790607127001, 1791262514001,...  \n",
       "1  [[1790044297001, 1790371107001, 1190000709001,...  \n",
       "2  [[1790371107001, 1790015718001, 1790015726001,...  \n",
       "3  [[1790428400001, 1790360741001, 1790388948001,...  \n",
       "4  [[1790044297001, 1792504538001, 1790453146001,...  \n",
       "5  [[1390000991001, 1790340465001, 1790983447001,...  \n",
       "6  [[1891724094001, 1290046374001, 1791240537001,...  \n",
       "7  [[1790424472001, 1790366022001, 1190049406001,...  "
      ]
     },
     "execution_count": 43,
     "metadata": {},
     "output_type": "execute_result"
    }
   ],
   "source": [
    "# Calculating default of each INDUSTRY with th=0.95 drop=100, cost=20\n",
    "df = result_failures(0.95, 0, 0.20, group=True)\n",
    "df[\"List_Firms_Affected\"] = df[\"List_Firms_Affected\"].apply(lambda x: x[1:-1])\n",
    "df"
   ]
  },
  {
   "cell_type": "code",
   "execution_count": null,
   "metadata": {},
   "outputs": [],
   "source": []
  }
 ],
 "metadata": {
  "kernelspec": {
   "display_name": "base",
   "language": "python",
   "name": "python3"
  },
  "language_info": {
   "codemirror_mode": {
    "name": "ipython",
    "version": 3
   },
   "file_extension": ".py",
   "mimetype": "text/x-python",
   "name": "python",
   "nbconvert_exporter": "python",
   "pygments_lexer": "ipython3",
   "version": "3.9.12 (main, Apr  5 2022, 01:52:34) \n[Clang 12.0.0 ]"
  },
  "latex_envs": {
   "LaTeX_envs_menu_present": true,
   "autoclose": false,
   "autocomplete": true,
   "bibliofile": "biblio.bib",
   "cite_by": "apalike",
   "current_citInitial": 1,
   "eqLabelWithNumbers": true,
   "eqNumInitial": 1,
   "hotkeys": {
    "equation": "Ctrl-E",
    "itemize": "Ctrl-I"
   },
   "labels_anchors": false,
   "latex_user_defs": false,
   "report_style_numbering": false,
   "user_envs_cfg": false
  },
  "toc": {
   "base_numbering": 1,
   "nav_menu": {
    "height": "409px",
    "width": "430px"
   },
   "number_sections": false,
   "sideBar": true,
   "skip_h1_title": false,
   "title_cell": "Table of Contents",
   "title_sidebar": "Contents",
   "toc_cell": false,
   "toc_position": {
    "height": "calc(100% - 180px)",
    "left": "10px",
    "top": "150px",
    "width": "208px"
   },
   "toc_section_display": true,
   "toc_window_display": true
  },
  "vscode": {
   "interpreter": {
    "hash": "f4eaf1f2f885a7b40224149287e6ed7f8f3a40db55a17f1f25f4eb3838f65e83"
   }
  }
 },
 "nbformat": 4,
 "nbformat_minor": 4
}
