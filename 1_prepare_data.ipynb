{
 "cells": [
  {
   "cell_type": "markdown",
   "metadata": {},
   "source": [
    "# Introduction"
   ]
  },
  {
   "cell_type": "markdown",
   "metadata": {},
   "source": [
    "The goal is to build the network of cross-holding to analyze financial contagion. The graph will be serialized in a pickle object.\n",
    "\n",
    "The main dataset **df_shareholder** details the shareholder's ID for each company and the amout of capital held by each shareholder. Then, the RUC of all firms are collected using **df_directory**. Finally, we drop the firms that do not have at least another firm as a shareholder. The final dataset of cross-holdings is **df_firms**."
   ]
  },
  {
   "cell_type": "code",
   "execution_count": 1,
   "metadata": {},
   "outputs": [],
   "source": [
    "NAME = 'Prepare_Data'\n",
    "PROJECT = 'Financial_Contagion_Crossholding'"
   ]
  },
  {
   "cell_type": "markdown",
   "metadata": {},
   "source": [
    "### Imports  "
   ]
  },
  {
   "cell_type": "code",
   "execution_count": 2,
   "metadata": {},
   "outputs": [],
   "source": [
    "# Load libraries\n",
    "import pandas as pd\n",
    "import numpy as np\n",
    "import networkx as nx\n",
    "\n",
    "# Ignoring warnings\n",
    "import warnings\n",
    "warnings.filterwarnings('ignore')"
   ]
  },
  {
   "cell_type": "markdown",
   "metadata": {},
   "source": [
    "--- \n",
    "# Main code"
   ]
  },
  {
   "cell_type": "code",
   "execution_count": 3,
   "metadata": {},
   "outputs": [],
   "source": [
    "data_path = \"../0_data/\"\n",
    "read_path = \"../2_pipeline/0_transform_kardex/\"\n",
    "write_path = \"../2_pipeline/1_prepare_data/\"\n",
    "year = 2016"
   ]
  },
  {
   "cell_type": "markdown",
   "metadata": {},
   "source": [
    "### Reading shareholder register"
   ]
  },
  {
   "cell_type": "code",
   "execution_count": 4,
   "metadata": {},
   "outputs": [
    {
     "name": "stdout",
     "output_type": "stream",
     "text": [
      "Missing values dropped: 53\n"
     ]
    }
   ],
   "source": [
    "# Reading data\n",
    "df_shareholder = pd.read_csv(read_path + \"accionistas{}.csv\".format(year),\n",
    "                             encoding=\"latin1\", \n",
    "                             dtype={\"EXPEDIENTE\": np.int32} )\n",
    "df_shareholder.columns = [\"Expediente\", \"Capital\", \"Accionista\"]\n",
    "\n",
    "# Dropping missing values\n",
    "print(\"Missing values dropped:\", len(df_shareholder[df_shareholder[\"Accionista\"] == \"9999999999998\"]))\n",
    "df_shareholder = df_shareholder[df_shareholder[\"Accionista\"] != \"9999999999998\"]"
   ]
  },
  {
   "cell_type": "code",
   "execution_count": 5,
   "metadata": {},
   "outputs": [
    {
     "data": {
      "text/plain": [
       "count    49452.000000\n",
       "mean         6.200376\n",
       "std         74.800678\n",
       "min          1.000000\n",
       "25%          2.000000\n",
       "50%          2.000000\n",
       "75%          3.000000\n",
       "max      14757.000000\n",
       "Name: Expediente, dtype: float64"
      ]
     },
     "execution_count": 5,
     "metadata": {},
     "output_type": "execute_result"
    }
   ],
   "source": [
    "# Summary statistics for the total amount of shareholders in each company\n",
    "df_shareholder.Expediente.value_counts().describe()"
   ]
  },
  {
   "cell_type": "markdown",
   "metadata": {},
   "source": [
    "## Adding RUC column"
   ]
  },
  {
   "cell_type": "code",
   "execution_count": 6,
   "metadata": {},
   "outputs": [],
   "source": [
    "rama_dict = {\n",
    "    \"A\": \"Agriculture\",\n",
    "    \"B\": \"General Services\",\n",
    "    \"C\": \"Manufacturing\",\n",
    "    \"D\": \"General Services\",\n",
    "    \"E\": \"General Services\",\n",
    "    \"F\": \"Construction\",\n",
    "    \"G\": \"Trade\",\n",
    "    \"H\": \"Transportation\",\n",
    "    \"I\": \"General Services\",\n",
    "    \"J\": \"General Services\",\n",
    "    \"K\": \"Financial Activities\",\n",
    "    \"L\": \"Real Estate\",\n",
    "    \"M\": \"General Services\",\n",
    "    \"N\": \"General Services\",\n",
    "    \"P\": \"General Services\",\n",
    "    \"Q\": \"General Services\",\n",
    "    \"R\": \"General Services\", \n",
    "    \"S\": \"General Services\"\n",
    "}"
   ]
  },
  {
   "cell_type": "code",
   "execution_count": 7,
   "metadata": {},
   "outputs": [
    {
     "name": "stdout",
     "output_type": "stream",
     "text": [
      "Missing values dropped:\n",
      "Expediente                0\n",
      "Ruc                    2565\n",
      "Nombre                    0\n",
      "Fecha_constitucion        0\n",
      "Provincia                 0\n",
      "Canton                    0\n",
      "Actividad_economica       0\n",
      "dtype: int64\n"
     ]
    }
   ],
   "source": [
    "# Reading firms' directory\n",
    "df_directory = pd.read_table(data_path + \"directorio_companias.txt\", \n",
    "                             delimiter=\"\\t\", \n",
    "                             encoding=\"latin1\")\n",
    "\n",
    "# Missing values just in RUC, there is no problem to drop everything\n",
    "print(\"Missing values dropped:\\n\", df_directory.isna().sum(), sep=\"\")\n",
    "df_directory.dropna(inplace=True)\n",
    "\n",
    "# Modifying columns to look better\n",
    "df_directory[\"CIIU\"] = df_directory[\"Actividad_economica\"].apply(lambda x: list(x)[0])\n",
    "df_directory[\"Fecha_constitucion\"] = pd.to_datetime(df_directory[\"Fecha_constitucion\"])\n",
    "df_directory[\"Fecha_constitucion\"] = 2018 - df_directory[\"Fecha_constitucion\"].dt.year\n",
    "df_directory['Sector_Econ'] = df_directory['CIIU'].map(rama_dict)"
   ]
  },
  {
   "cell_type": "code",
   "execution_count": 8,
   "metadata": {},
   "outputs": [],
   "source": [
    "# Problem: RUC number is a float, so first I need to convert it in integer, and then in string\n",
    "df_directory = df_directory.astype({'Ruc': 'int64'}).astype({'Ruc': 'str'})\n",
    "\n",
    "# Adding Ruc column to df_shareholder\n",
    "df_shareholder = df_shareholder.merge(df_directory[[\"Expediente\", \"Ruc\"]], how='inner', on=\"Expediente\")"
   ]
  },
  {
   "cell_type": "markdown",
   "metadata": {},
   "source": [
    "## Validating financial info"
   ]
  },
  {
   "cell_type": "code",
   "execution_count": 9,
   "metadata": {},
   "outputs": [],
   "source": [
    "def read_fin_info(loc_path, column):\n",
    "    \"\"\"\n",
    "    This function read financial datasets and drop firms with zero assets\n",
    "    \"\"\"\n",
    "  \n",
    "    # Reading financial information for firms\n",
    "    df_finance = pd.read_stata(loc_path)\n",
    "    # Adjusting name of Ruc\n",
    "    df_finance = df_finance.rename({\"RUC\": \"Ruc\"}, axis=1)\n",
    "    # Problem: RUC number is a float, so first I need to convert it in integer, and then in string\n",
    "    df_finance = df_finance.astype({'Ruc': 'int64'}).astype({'Ruc': 'str'})\n",
    "    # Drop firms with zero assets\n",
    "    print(\"Firms with zero assets:\", len(df_finance[ df_finance[\"TOTAL_ACTIVO\"] <= 0 ]) )\n",
    "    df_finance = df_finance[ df_finance[\"TOTAL_ACTIVO\"] > 0 ]\n",
    "    \n",
    "    return df_finance"
   ]
  },
  {
   "cell_type": "code",
   "execution_count": 10,
   "metadata": {},
   "outputs": [
    {
     "name": "stdout",
     "output_type": "stream",
     "text": [
      "Firms with zero assets: 1807\n"
     ]
    }
   ],
   "source": [
    "# Reading financial information for firms\n",
    "df_finance = read_fin_info(data_path + \"balance{}.dta\".format(year), \n",
    "                           column=\"TOTAL_ACTIVO\")\n",
    "\n",
    "# Filtering data by financial information of 2016\n",
    "finance_set = set(df_finance.Ruc)#.intersection( set(df_finance_last.Ruc) )\n",
    "df_shareholder = df_shareholder[df_shareholder.Ruc.isin( finance_set )]"
   ]
  },
  {
   "cell_type": "code",
   "execution_count": 11,
   "metadata": {},
   "outputs": [
    {
     "data": {
      "text/plain": [
       "Index(['AÑO', 'EXPEDIENTE', 'Ruc', 'NOMBRE', 'CIIU', 'EFECTIVO',\n",
       "       'INVERSIONES_FINANCIERAS', 'CTAS_Y_DOC_X_COBRAR', 'INVENTARIOS',\n",
       "       'TOTAL_ACTIVOS_CORRIENTES', 'ACTIVO_FIJO_TANGIBLE',\n",
       "       'ACTIVO_FIJO_INTANGIBLE', 'TOTAL_ACTIVO_FIJO', 'TOTAL_ACTIVO',\n",
       "       'CTAS_Y_DOC_X_PAGAR', 'OBLIGACIONES_FINANCIERAS',\n",
       "       'TOTAL_PASIVO_CORRIENTE', 'TOTAL_PASIVO', 'CAPITAL',\n",
       "       'UTILIDADES_ANTERIORES', 'TOTAL_PATRIMONIO', 'VENTAS', 'EXPORTACIONES',\n",
       "       'TOTAL_INGRESOS', 'TOTAL_COSTO_DE_VENTA', 'SUELDOS', 'ARRENDAMIENTO',\n",
       "       'PUBLICIDAD', 'SERVICIOS_BASICOS', 'IMPUESTOS_Y_CONTRIBUCIONES',\n",
       "       'INTERESES', 'UTILIDAD_DEL_EJERCICIO', 'TOTAL_EGRESOS',\n",
       "       'IMPUESTO_A_LA_RENTA'],\n",
       "      dtype='object')"
      ]
     },
     "execution_count": 11,
     "metadata": {},
     "output_type": "execute_result"
    }
   ],
   "source": [
    "df_finance.columns"
   ]
  },
  {
   "cell_type": "code",
   "execution_count": 12,
   "metadata": {},
   "outputs": [],
   "source": [
    "# Create Economic Sector\n",
    "df_finance[\"Actividad_economica\"] = df_finance[\"CIIU\"].apply(lambda x: list(x)[0])\n",
    "df_finance[\"Sector_Econ\"] = df_finance[\"Actividad_economica\"].map(rama_dict)\n",
    "# Filter finance data by the RUCs in shareholder register\n",
    "df_finance = df_finance[df_finance[\"Ruc\"].isin(set(df_shareholder[\"Ruc\"]))]"
   ]
  },
  {
   "cell_type": "code",
   "execution_count": 13,
   "metadata": {},
   "outputs": [],
   "source": [
    "# df_finance[[\"TOTAL_ACTIVO\", \"Sector_Econ\"]].groupby(\"Sector_Econ\").sum().to_excel(\"total_activos_industria.xlsx\")"
   ]
  },
  {
   "cell_type": "markdown",
   "metadata": {},
   "source": [
    "## Filtering cross-holdings"
   ]
  },
  {
   "cell_type": "code",
   "execution_count": 14,
   "metadata": {},
   "outputs": [],
   "source": [
    "def stats_comunes(data, column_shareholder, column_firm):\n",
    "    share_total_set = set(data[column_shareholder])\n",
    "    firms_total_set = set(data[column_firm])\n",
    "\n",
    "    print(\"Unique shareholders: \", len(share_total_set))\n",
    "    print(\"Unique firms: \", len(firms_total_set))\n",
    "    print(\"Firms that are not shareholders: \", len( firms_total_set.difference(share_total_set) ))\n",
    "    print(\"Shareholders that are not firms: \", len( share_total_set.difference(firms_total_set) ))\n",
    "    print(\"Intersection between firms and shareholders: \", len( firms_total_set.intersection(share_total_set) ))"
   ]
  },
  {
   "cell_type": "code",
   "execution_count": 15,
   "metadata": {},
   "outputs": [
    {
     "name": "stdout",
     "output_type": "stream",
     "text": [
      "Unique shareholders:  217407\n",
      "Unique firms:  44104\n",
      "Firms that are not shareholders:  42805\n",
      "Shareholders that are not firms:  216108\n",
      "Intersection between firms and shareholders:  1299\n"
     ]
    }
   ],
   "source": [
    "stats_comunes(df_shareholder, \"Accionista\", \"Ruc\")"
   ]
  },
  {
   "cell_type": "code",
   "execution_count": 16,
   "metadata": {},
   "outputs": [
    {
     "name": "stdout",
     "output_type": "stream",
     "text": [
      "Firms for analysis: 1299\n"
     ]
    }
   ],
   "source": [
    "firms_holders_set = set(df_shareholder[\"Accionista\"]).intersection(set(df_shareholder[\"Ruc\"]))\n",
    "print(\"Firms for analysis:\", len(firms_holders_set))"
   ]
  },
  {
   "cell_type": "code",
   "execution_count": 17,
   "metadata": {},
   "outputs": [],
   "source": [
    "# Creating a dataframe with cross-holdings in firms\n",
    "df_firms = df_shareholder[ df_shareholder.Ruc.isin(firms_holders_set) ]\n",
    "\n",
    "# Calculating percentage of share capital\n",
    "expediente_accionista = df_firms.groupby(['Expediente', 'Accionista']).agg({'Capital': 'sum'})\n",
    "expediente_capital = expediente_accionista.groupby(level=0).sum().reset_index().rename({\"Capital\": \"Total_Equity\"}, axis=1)\n",
    "df_firms = expediente_accionista.groupby(level=0).apply(lambda x: x / float(x.sum()))\n",
    "df_firms = df_firms.reset_index()\n",
    "\n",
    "# Adding again RUC column to new df_firms\n",
    "df_firms = df_firms.merge(df_directory[[\"Expediente\", \"Ruc\"]], how='inner', on=\"Expediente\")\n",
    "df_firms = df_firms.merge(expediente_capital, how='inner', on=\"Expediente\")"
   ]
  },
  {
   "cell_type": "code",
   "execution_count": 18,
   "metadata": {},
   "outputs": [],
   "source": [
    "# Reading financial information for firms\n",
    "# df_ceo = pd.read_stata(os.path.join('..', '0_data', \"BDD_GENRED.dta\"))\n",
    "# df_ceo"
   ]
  },
  {
   "cell_type": "markdown",
   "metadata": {},
   "source": [
    "## Building network"
   ]
  },
  {
   "cell_type": "code",
   "execution_count": 19,
   "metadata": {},
   "outputs": [
    {
     "name": "stdout",
     "output_type": "stream",
     "text": [
      "Graph information\n",
      "Name: Cross-holding Network\n",
      "Type: DiGraph\n",
      "Number of nodes: 37012\n",
      "Number of edges: 41578\n",
      "Average in degree:   1.1234\n",
      "Average out degree:   1.1234\n"
     ]
    }
   ],
   "source": [
    "weight_list = list( zip( df_firms.Accionista.astype('str'), df_firms.Ruc.astype('str'), df_firms.Capital ) )\n",
    "\n",
    "G = nx.DiGraph( name='Cross-holding Network' )\n",
    "G.add_weighted_edges_from( weight_list )\n",
    "\n",
    "print('Graph information\\n', nx.info(G), sep='')"
   ]
  },
  {
   "cell_type": "code",
   "execution_count": 20,
   "metadata": {},
   "outputs": [
    {
     "name": "stdout",
     "output_type": "stream",
     "text": [
      "Graph information\n",
      "Name: Cross-holding Network\n",
      "Type: DiGraph\n",
      "Number of nodes: 1299\n",
      "Number of edges: 777\n",
      "Average in degree:   0.5982\n",
      "Average out degree:   0.5982\n"
     ]
    }
   ],
   "source": [
    "# Remove nodes that are not cross-holding firms\n",
    "G.remove_nodes_from([n for n in G if n not in firms_holders_set])\n",
    "\n",
    "print('Graph information\\n', nx.info(G), sep='')"
   ]
  },
  {
   "cell_type": "code",
   "execution_count": 21,
   "metadata": {},
   "outputs": [
    {
     "name": "stdout",
     "output_type": "stream",
     "text": [
      "Remove 156 self-loops \n",
      "\n",
      "Graph information\n",
      "Name: Cross-holding Network\n",
      "Type: DiGraph\n",
      "Number of nodes: 1299\n",
      "Number of edges: 621\n",
      "Average in degree:   0.4781\n",
      "Average out degree:   0.4781\n"
     ]
    }
   ],
   "source": [
    "# Remove self-loops\n",
    "print(\"Remove {} self-loops \\n\".format(nx.number_of_selfloops(G)))\n",
    "\n",
    "G.remove_edges_from(nx.selfloop_edges(G))\n",
    "print('Graph information\\n', nx.info(G), sep='')"
   ]
  },
  {
   "cell_type": "code",
   "execution_count": 22,
   "metadata": {},
   "outputs": [],
   "source": [
    "# Creating dictionary of attributes\n",
    "ruc_econSector = df_directory[df_directory.Ruc.isin(G.nodes)].set_index(\"Ruc\").Sector_Econ.to_dict()\n",
    "ruc_years = df_directory[df_directory.Ruc.isin(G.nodes)].set_index(\"Ruc\").Fecha_constitucion.to_dict()\n",
    "ruc_name = df_directory[df_directory.Ruc.isin(G.nodes)].set_index(\"Ruc\").Nombre.to_dict()\n",
    "\n",
    "ruc_assets = df_finance[df_finance.Ruc.isin(G.nodes)].set_index(\"Ruc\").TOTAL_ACTIVO.to_dict()\n",
    "ruc_equity = df_firms[df_firms.Ruc.isin(G.nodes)].set_index(\"Ruc\").Total_Equity.to_dict()\n",
    "ruc_revenue = df_finance[df_finance.Ruc.isin(G.nodes)].set_index(\"Ruc\").TOTAL_INGRESOS.to_dict()\n",
    "\n",
    "df_total_shareholders = df_shareholder.Ruc.value_counts().reset_index()\n",
    "df_total_shareholders.columns = [\"Ruc\", \"Total_shareholders\"]\n",
    "ruc_shareholders = df_total_shareholders[df_total_shareholders.Ruc.isin(G.nodes)].set_index(\"Ruc\").Total_shareholders.to_dict()\n",
    "\n",
    "# Adding attributes to firms\n",
    "nx.set_node_attributes(G, ruc_econSector, name=\"Economic_Sector\")\n",
    "nx.set_node_attributes(G, ruc_years, name=\"Years\")\n",
    "nx.set_node_attributes(G, ruc_name, name=\"Name\")\n",
    "nx.set_node_attributes(G, ruc_assets, name=\"Total_Assets\")\n",
    "nx.set_node_attributes(G, ruc_equity, name=\"Total_Equity\")\n",
    "nx.set_node_attributes(G, ruc_revenue, name=\"Total_Revenue\")\n",
    "nx.set_node_attributes(G, ruc_shareholders, name=\"Total_Shareholders\")"
   ]
  },
  {
   "cell_type": "code",
   "execution_count": 23,
   "metadata": {},
   "outputs": [],
   "source": [
    "nx.write_gpickle(G, write_path + \"graph_crossholding_{}.gpickle\".format(year))"
   ]
  },
  {
   "cell_type": "code",
   "execution_count": null,
   "metadata": {},
   "outputs": [],
   "source": []
  }
 ],
 "metadata": {
  "kernelspec": {
   "display_name": "base",
   "language": "python",
   "name": "python3"
  },
  "language_info": {
   "codemirror_mode": {
    "name": "ipython",
    "version": 3
   },
   "file_extension": ".py",
   "mimetype": "text/x-python",
   "name": "python",
   "nbconvert_exporter": "python",
   "pygments_lexer": "ipython3",
   "version": "3.9.12 (main, Apr  5 2022, 01:52:34) \n[Clang 12.0.0 ]"
  },
  "toc": {
   "base_numbering": 1,
   "nav_menu": {
    "height": "138px",
    "width": "252px"
   },
   "number_sections": false,
   "sideBar": true,
   "skip_h1_title": false,
   "title_cell": "Table of Contents",
   "title_sidebar": "Contents",
   "toc_cell": false,
   "toc_position": {
    "height": "calc(100% - 180px)",
    "left": "10px",
    "top": "150px",
    "width": "218px"
   },
   "toc_section_display": "block",
   "toc_window_display": true
  },
  "vscode": {
   "interpreter": {
    "hash": "f4eaf1f2f885a7b40224149287e6ed7f8f3a40db55a17f1f25f4eb3838f65e83"
   }
  }
 },
 "nbformat": 4,
 "nbformat_minor": 4
}
